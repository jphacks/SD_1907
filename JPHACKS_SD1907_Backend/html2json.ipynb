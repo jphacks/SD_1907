{
 "cells": [
  {
   "cell_type": "code",
   "execution_count": 1,
   "metadata": {},
   "outputs": [],
   "source": [
    "import pickle\n",
    "import json\n",
    "import geocoder\n",
    "from bs4 import BeautifulSoup\n",
    "from tqdm import tqdm"
   ]
  },
  {
   "cell_type": "code",
   "execution_count": 2,
   "metadata": {},
   "outputs": [],
   "source": [
    "with open('flight_data_departure.html', 'r', encoding='utf-8') as f:\n",
    "    departure = f.read()"
   ]
  },
  {
   "cell_type": "code",
   "execution_count": 3,
   "metadata": {},
   "outputs": [],
   "source": [
    "dep_soup = BeautifulSoup(departure, 'html.parser')"
   ]
  },
  {
   "cell_type": "code",
   "execution_count": 4,
   "metadata": {},
   "outputs": [],
   "source": [
    "dep_basis = {\n",
    "    \"departure\":{\n",
    "        \"name\":'羽田空港',\n",
    "        \"code\":'HND',\n",
    "        \"lat\":35.54572095,\n",
    "        \"lon\":139.780587131238,\n",
    "    },\n",
    "    \"arrival\":{\n",
    "        \"name\":None,\n",
    "        \"code\":None,\n",
    "        \"lat\":None,\n",
    "        \"lon\":None,\n",
    "    },\n",
    "    \"departure_time\":None,\n",
    "    \"flight_number\":None,\n",
    "}"
   ]
  },
  {
   "cell_type": "code",
   "execution_count": 5,
   "metadata": {},
   "outputs": [],
   "source": [
    "arr_basis = {\n",
    "    \"departure\":{\n",
    "        \"name\":None,\n",
    "        \"code\":None,\n",
    "        \"lat\":None,\n",
    "        \"lon\":None,\n",
    "    },\n",
    "    \"arrival\":{\n",
    "        \"name\":\"羽田空港\",\n",
    "        \"code\":\"HND\",\n",
    "        \"lat\":35.54572095,\n",
    "        \"lon\":139.780587131238,\n",
    "    },\n",
    "    \"departure_time\":None,\n",
    "    \"flight_number\":None,\n",
    "}"
   ]
  },
  {
   "cell_type": "code",
   "execution_count": 6,
   "metadata": {},
   "outputs": [],
   "source": [
    "dep_name = []\n",
    "for td in dep_soup.find_all('tr'):\n",
    "    td = td.find_all('td')\n",
    "    airport_name = td[2].text\n",
    "    dep_name.append(airport_name)"
   ]
  },
  {
   "cell_type": "code",
   "execution_count": 7,
   "metadata": {},
   "outputs": [],
   "source": [
    "with open('flight_data_arrival.html', 'r', encoding='utf-8') as f:\n",
    "    arrival = f.read()"
   ]
  },
  {
   "cell_type": "code",
   "execution_count": 8,
   "metadata": {},
   "outputs": [],
   "source": [
    "arr_soup = BeautifulSoup(arrival, 'html.parser')"
   ]
  },
  {
   "cell_type": "code",
   "execution_count": 9,
   "metadata": {},
   "outputs": [],
   "source": [
    "arr_name = []\n",
    "for td in arr_soup.find_all('tr'):\n",
    "    td = td.find_all('td')\n",
    "    airport_name = td[2].text\n",
    "    arr_name.append(airport_name)"
   ]
  },
  {
   "cell_type": "code",
   "execution_count": 10,
   "metadata": {},
   "outputs": [],
   "source": [
    "airport_name = set(dep_name) | set(arr_name)"
   ]
  },
  {
   "cell_type": "code",
   "execution_count": 11,
   "metadata": {
    "scrolled": false
   },
   "outputs": [
    {
     "name": "stderr",
     "output_type": "stream",
     "text": [
      " 17%|█████████████▊                                                                     | 8/48 [00:08<00:43,  1.10s/it]"
     ]
    },
    {
     "name": "stdout",
     "output_type": "stream",
     "text": [
      "大阪（伊丹）\n",
      "enter airport name: 大阪国際\n"
     ]
    },
    {
     "name": "stderr",
     "output_type": "stream",
     "text": [
      "\r",
      " 19%|███████████████▌                                                                   | 9/48 [00:14<01:37,  2.50s/it]"
     ]
    },
    {
     "name": "stdout",
     "output_type": "stream",
     "text": [
      "名古屋（中部）\n",
      "enter airport name: 中部国際\n"
     ]
    },
    {
     "name": "stderr",
     "output_type": "stream",
     "text": [
      " 23%|██████████████████▊                                                               | 11/48 [00:20<01:34,  2.55s/it]"
     ]
    },
    {
     "name": "stdout",
     "output_type": "stream",
     "text": [
      "札幌（新千歳）\n",
      "enter airport name: 新千歳\n"
     ]
    },
    {
     "name": "stderr",
     "output_type": "stream",
     "text": [
      " 65%|████████████████████████████████████████████████████▉                             | 31/48 [00:46<00:18,  1.10s/it]"
     ]
    },
    {
     "name": "stdout",
     "output_type": "stream",
     "text": [
      "奄美大島\n",
      "enter airport name: 奄美\n"
     ]
    },
    {
     "name": "stderr",
     "output_type": "stream",
     "text": [
      " 88%|███████████████████████████████████████████████████████████████████████▊          | 42/48 [01:01<00:06,  1.12s/it]"
     ]
    },
    {
     "name": "stdout",
     "output_type": "stream",
     "text": [
      "三沢八戸\n",
      "enter airport name: 三沢\n"
     ]
    },
    {
     "name": "stderr",
     "output_type": "stream",
     "text": [
      " 94%|████████████████████████████████████████████████████████████████████████████▉     | 45/48 [01:09<00:05,  1.76s/it]"
     ]
    },
    {
     "name": "stdout",
     "output_type": "stream",
     "text": [
      "沖縄（那覇）\n",
      "enter airport name: 那覇\n"
     ]
    },
    {
     "name": "stderr",
     "output_type": "stream",
     "text": [
      "100%|██████████████████████████████████████████████████████████████████████████████████| 48/48 [01:16<00:00,  1.88s/it]"
     ]
    },
    {
     "name": "stdout",
     "output_type": "stream",
     "text": [
      "大阪（関西）\n",
      "enter airport name: 関西国際\n"
     ]
    },
    {
     "name": "stderr",
     "output_type": "stream",
     "text": [
      "51it [01:24,  1.66s/it]                                                                                                \n"
     ]
    }
   ],
   "source": [
    "latlon = {}\n",
    "changed_name = {}\n",
    "for name in tqdm(airport_name):\n",
    "    ret = geocoder.osm(name+'空港', timeout=5.0)\n",
    "    if ret.latlng is None:\n",
    "        print(name)\n",
    "        true_name = input('enter airport name: ')\n",
    "        changed_name[name] = true_name\n",
    "        airport_name.remove(name)\n",
    "        airport_name.add(true_name)\n",
    "        ret = geocoder.osm(true_name+'空港', timeout=5.0)\n",
    "        latlon[true_name] = ret.latlng\n",
    "        continue\n",
    "    latlon[name] = ret.latlng"
   ]
  },
  {
   "cell_type": "code",
   "execution_count": 12,
   "metadata": {},
   "outputs": [],
   "source": [
    "with open('data/latlon.pkl', 'wb') as f:\n",
    "    pickle.dump(latlon, f)"
   ]
  },
  {
   "cell_type": "code",
   "execution_count": null,
   "metadata": {},
   "outputs": [],
   "source": [
    "airport_code = {}\n",
    "for name in airport_name:\n",
    "    print('=======================')\n",
    "    print(f'ariport: {name}')\n",
    "    code = input('enter airport code: ')\n",
    "    print(code)\n",
    "    airport_code[name] = code"
   ]
  },
  {
   "cell_type": "code",
   "execution_count": null,
   "metadata": {},
   "outputs": [],
   "source": [
    "with open('data/airport_code.pkl', 'wb') as f:\n",
    "    pickle.dump(airport_code, f)"
   ]
  },
  {
   "cell_type": "code",
   "execution_count": 13,
   "metadata": {},
   "outputs": [],
   "source": [
    "with open('airport_code.pickle', 'rb') as f:\n",
    "    airport_code = pickle.load(f)"
   ]
  },
  {
   "cell_type": "code",
   "execution_count": 17,
   "metadata": {},
   "outputs": [
    {
     "name": "stderr",
     "output_type": "stream",
     "text": [
      "100%|█████████████████████████████████████████████████████████████████████████████| 579/579 [00:00<00:00, 32194.16it/s]\n"
     ]
    }
   ],
   "source": [
    "dep_data = []\n",
    "deparr = 'arrival'\n",
    "for td in tqdm(dep_soup.find_all('tr')):\n",
    "    td = td.find_all('td')\n",
    "    info = dep_basis.copy()\n",
    "    airport_name = td[2].text\n",
    "    if airport_name in changed_name.keys():\n",
    "        airport_name = changed_name[airport_name]\n",
    "    info[deparr]['name'] = airport_name+\"空港\"\n",
    "    info[deparr]['code'] = airport_code[airport_name]\n",
    "    lat, lon = latlon[airport_name]\n",
    "    info[deparr]['lat'] = lat\n",
    "    info[deparr]['lon'] = lon\n",
    "    info['departure_time'] = td[0].text[2:]\n",
    "    info['flight_number'] = td[4].text\n",
    "    dep_data.append(info)"
   ]
  },
  {
   "cell_type": "code",
   "execution_count": 19,
   "metadata": {},
   "outputs": [
    {
     "name": "stderr",
     "output_type": "stream",
     "text": [
      "100%|█████████████████████████████████████████████████████████████████████████████| 580/580 [00:00<00:00, 36343.07it/s]\n"
     ]
    }
   ],
   "source": [
    "arr_data = []\n",
    "deparr = 'departure'\n",
    "for td in tqdm(arr_soup.find_all('tr')):\n",
    "    td = td.find_all('td')\n",
    "    info = arr_basis.copy()\n",
    "    airport_name = td[2].text\n",
    "    if airport_name in changed_name.keys():\n",
    "        airport_name = changed_name[airport_name]\n",
    "    info[deparr]['name'] = airport_name+\"空港\"\n",
    "    info[deparr]['code'] = airport_code[airport_name]\n",
    "    lat, lon = latlon[airport_name]\n",
    "    info[deparr]['lat'] = lat\n",
    "    info[deparr]['lon'] = lon\n",
    "    info['departure_time'] = td[0].text[2:]\n",
    "    info['flight_number'] = td[4].text\n",
    "    arr_data.append(info)"
   ]
  },
  {
   "cell_type": "code",
   "execution_count": 21,
   "metadata": {},
   "outputs": [],
   "source": [
    "with open('data/flight_info_departure.pkl', 'wb') as f:\n",
    "    pickle.dump(dep_data, f)"
   ]
  },
  {
   "cell_type": "code",
   "execution_count": 22,
   "metadata": {},
   "outputs": [],
   "source": [
    "with open('data/flight_info_arrival.pkl', 'wb') as f:\n",
    "    pickle.dump(arr_data, f)"
   ]
  },
  {
   "cell_type": "code",
   "execution_count": 24,
   "metadata": {},
   "outputs": [],
   "source": [
    "ret = geocoder.osm('羽田空港', timeout=5.0)\n",
    "latlon['羽田'] = ret.latlng"
   ]
  },
  {
   "cell_type": "code",
   "execution_count": 25,
   "metadata": {},
   "outputs": [],
   "source": [
    "code_latlon = {}\n",
    "for name, code in airport_code.items():\n",
    "    code_latlon[code] = latlon[name]"
   ]
  },
  {
   "cell_type": "code",
   "execution_count": 27,
   "metadata": {},
   "outputs": [],
   "source": [
    "with open('data/airportCode2latlon.pkl', 'wb') as f:\n",
    "    pickle.dump(code_latlon, f)"
   ]
  },
  {
   "cell_type": "code",
   "execution_count": null,
   "metadata": {},
   "outputs": [],
   "source": []
  }
 ],
 "metadata": {
  "kernelspec": {
   "display_name": "Python 3",
   "language": "python",
   "name": "python3"
  },
  "language_info": {
   "codemirror_mode": {
    "name": "ipython",
    "version": 3
   },
   "file_extension": ".py",
   "mimetype": "text/x-python",
   "name": "python",
   "nbconvert_exporter": "python",
   "pygments_lexer": "ipython3",
   "version": "3.7.4"
  }
 },
 "nbformat": 4,
 "nbformat_minor": 2
}
